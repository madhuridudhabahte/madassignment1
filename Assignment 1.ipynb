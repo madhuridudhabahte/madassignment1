{
 "cells": [
  {
   "cell_type": "code",
   "execution_count": null,
   "metadata": {},
   "outputs": [],
   "source": [
    "ASSIGNMENT 1"
   ]
  },
  {
   "cell_type": "raw",
   "metadata": {},
   "source": [
    "Que [1] In the below elements which of them are values or an expression? eg:- values can be integer or string and expressions will be mathematical operators.\n",
    "* \n",
    "'hello'\n",
    "-87.8\n",
    "- \n",
    "/ \n",
    "+\t\n",
    "6 \n",
    "\n",
    "Ans [1]:\n",
    "\n",
    "*        ----expression\n",
    "'hello'  ------value\n",
    "-87.8    ------value\n",
    "-        --------------expression\n",
    "/        -------------------expression \n",
    "+        ----------------------expression\n",
    "6        ---------------------value"
   ]
  },
  {
   "cell_type": "raw",
   "metadata": {},
   "source": [
    "Que [2]  What is the difference between string and variable?\n",
    "\n",
    "Ans [2]:String: it is a type of information you would store in a Variable.\n",
    "        A String is usually words enclosed with \" \"\n",
    "        \n",
    "        Variable: It is the thing in which we can store data just like a container.\n",
    "        \n",
    "        e.g. x=\"i am working at ineuron\"\n",
    "        \n",
    "        here, x is the variable which stores the data.\n",
    "        \" i am working at ineuron\" is string.\n",
    "    \n",
    "    "
   ]
  },
  {
   "cell_type": "raw",
   "metadata": {},
   "source": [
    "Que [3] Describe three different data types.\n",
    "\n",
    "Ans [3]:\n",
    "    Lists : it is a collection of multiple data sets. Represent in a square bracket [ ]\n",
    "            list is a mutable \n",
    "            e.g [1,2,3,4,5]\n",
    "    \n",
    "    Tuples : it is a collection of multiple data sets between. Represent in a normal bracket ( ) \n",
    "            tuples are immutable\n",
    "            e.g (1,2,3,4,5)\n",
    "            \n",
    "    Set :  using set we can remove the duplicates.\n",
    "           set is a collection of data sets which will always try to hold all the unique elements\n",
    "           Represent in a curly brackets { } \n",
    "           e.g {1,2,3,4}\n",
    "           \n"
   ]
  },
  {
   "cell_type": "raw",
   "metadata": {},
   "source": [
    "Que [4] What is an expression made up of? What do all expressions do?\n",
    "\n",
    "Ans [4]: An expression is a combination of values,variables,operators and calls to functions. \n",
    "         Expressions need to be evaluated or it represent the result on the screen.\n",
    "         \n",
    "          e.g x=1+2 is an expression\n",
    "              it will directly show the result on the screen "
   ]
  },
  {
   "cell_type": "raw",
   "metadata": {},
   "source": [
    "Que [5] This assignment statements, like spam = 10. What is the difference between an expression and a statement?\n",
    "\n",
    "Ans [5]: Expression is made up of values, variables, mathematical operators and \n",
    "         the statement is just like a command that a python interpreter executes like print."
   ]
  },
  {
   "cell_type": "raw",
   "metadata": {},
   "source": [
    "Que [6] After running the following code, what does the variable bacon contain?\n",
    "bacon = 22\n",
    "bacon + 1\n",
    "\n",
    "\n",
    "Ans [6]: it gives 23 as execution code "
   ]
  },
  {
   "cell_type": "code",
   "execution_count": 9,
   "metadata": {},
   "outputs": [],
   "source": [
    "bacon = 22"
   ]
  },
  {
   "cell_type": "code",
   "execution_count": 10,
   "metadata": {},
   "outputs": [
    {
     "data": {
      "text/plain": [
       "23"
      ]
     },
     "execution_count": 10,
     "metadata": {},
     "output_type": "execute_result"
    }
   ],
   "source": [
    "bacon + 1"
   ]
  },
  {
   "cell_type": "raw",
   "metadata": {},
   "source": [
    "Que [7] What should the values of the following two terms be?\n",
    "       'spam' + 'spamspam'\n",
    "       'spam' * 3\n",
    "       \n",
    "Ans [7]: answer will be same for both\n",
    "\n",
    "      \n"
   ]
  },
  {
   "cell_type": "code",
   "execution_count": 11,
   "metadata": {},
   "outputs": [
    {
     "data": {
      "text/plain": [
       "'spamspamspam'"
      ]
     },
     "execution_count": 11,
     "metadata": {},
     "output_type": "execute_result"
    }
   ],
   "source": [
    "'spam' + 'spamspam'"
   ]
  },
  {
   "cell_type": "code",
   "execution_count": 12,
   "metadata": {},
   "outputs": [
    {
     "data": {
      "text/plain": [
       "'spamspamspam'"
      ]
     },
     "execution_count": 12,
     "metadata": {},
     "output_type": "execute_result"
    }
   ],
   "source": [
    "'spam' * 3"
   ]
  },
  {
   "cell_type": "raw",
   "metadata": {},
   "source": [
    "Que [8] Why is eggs a valid variable name while 100 is invalid?\n",
    "\n",
    "Ans [8]: Because variable names cannot begin with an integer number.\n",
    "         if we have to write then we should begin with, a string-like alphabet name then integer. \n",
    "         e100 or eggs100 is valid\n",
    "\n",
    " "
   ]
  },
  {
   "cell_type": "raw",
   "metadata": {},
   "source": [
    "Que [9] What three functions can be used to get the integer, floating-point number, or string version of a value?\n",
    "\n",
    "Ans [9]: The int() , float() , and str( ) functions will evaluate to the integer, floating-point number, and string versions of          the value passed to them"
   ]
  },
  {
   "cell_type": "raw",
   "metadata": {},
   "source": [
    "Que [10] Why does this expression cause an error? How can you fix it?\n",
    "'I have eaten ' + 99 + ' burritos.'\n",
    "\n",
    "\n",
    "Ans [10] : because 99 is an integer it cannot be concatenated with strings,\n",
    "           if we have to concatenate it we need to do typecasting"
   ]
  }
 ],
 "metadata": {
  "kernelspec": {
   "display_name": "Python 3",
   "language": "python",
   "name": "python3"
  },
  "language_info": {
   "codemirror_mode": {
    "name": "ipython",
    "version": 3
   },
   "file_extension": ".py",
   "mimetype": "text/x-python",
   "name": "python",
   "nbconvert_exporter": "python",
   "pygments_lexer": "ipython3",
   "version": "3.7.1"
  }
 },
 "nbformat": 4,
 "nbformat_minor": 2
}
